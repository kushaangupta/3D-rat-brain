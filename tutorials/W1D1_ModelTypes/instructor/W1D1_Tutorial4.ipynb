{
  "cells": [
    {
      "cell_type": "markdown",
      "metadata": {
        "id": "view-in-github",
        "colab_type": "text"
      },
      "source": [
        "<a href=\"https://colab.research.google.com/github/kushaangupta/3D-rat-brain/blob/master/tutorials/W1D1_ModelTypes/instructor/W1D1_Tutorial4.ipynb\" target=\"_parent\"><img src=\"https://colab.research.google.com/assets/colab-badge.svg\" alt=\"Open In Colab\"/></a>"
      ]
    },
    {
      "cell_type": "markdown",
      "metadata": {
        "execution": {},
        "id": "0RPQBYXB_8iX"
      },
      "source": [
        "# Tutorial 4: Model Discussions\n",
        "**Week 1, Day 1: Model Types**\n",
        "\n",
        "**By Neuromatch Academy**\n",
        "\n",
        "__Content creators:__ Matt Laporte, Byron Galbraith, Konrad Kording\n",
        "\n",
        "__Post-production team:__ Gagana B, Spiros Chavlis\n",
        "\n"
      ]
    },
    {
      "cell_type": "markdown",
      "metadata": {
        "execution": {},
        "id": "UMXsawds_8id"
      },
      "source": [
        "___\n",
        "# Tutorial Objectives\n",
        "\n",
        "*Estimated timing of tutorial: 45 minutes*\n",
        "\n",
        "In this tutorial, you will reflect on what/how/why models in a group discussion and discuss your preferences and thoughts on modeling."
      ]
    },
    {
      "cell_type": "code",
      "execution_count": null,
      "metadata": {
        "cellView": "form",
        "execution": {},
        "id": "81Kroc3p_8ie"
      },
      "outputs": [],
      "source": [
        "\n",
        "# @title Tutorial slides\n",
        "# @markdown These are the slides for the videos in all tutorials today\n",
        "from IPython.display import IFrame\n",
        "link_id = \"6dxwe\"\n",
        "print(f\"If you want to download the slides: https://osf.io/download/{link_id}/\")\n",
        "IFrame(src=f\"https://mfr.ca-1.osf.io/render?url=https://osf.io/{link_id}/?direct%26mode=render%26action=download%26mode=render\", width=854, height=480)"
      ]
    },
    {
      "cell_type": "markdown",
      "metadata": {
        "execution": {},
        "id": "7UKF-dyu_8ig"
      },
      "source": [
        "---\n",
        "# Setup"
      ]
    },
    {
      "cell_type": "code",
      "execution_count": null,
      "metadata": {
        "execution": {},
        "id": "wVqaCCms_8ih"
      },
      "outputs": [],
      "source": [
        "# @title Install and import feedback gadget\n",
        "\n",
        "!pip3 install vibecheck datatops --quiet\n",
        "\n",
        "from vibecheck import DatatopsContentReviewContainer\n",
        "def content_review(notebook_section: str):\n",
        "    return DatatopsContentReviewContainer(\n",
        "        \"\",  # No text prompt\n",
        "        notebook_section,\n",
        "        {\n",
        "            \"url\": \"https://pmyvdlilci.execute-api.us-east-1.amazonaws.com/klab\",\n",
        "            \"name\": \"neuromatch_cn\",\n",
        "            \"user_key\": \"y1x3mpx5\",\n",
        "        },\n",
        "    ).render()\n",
        "\n",
        "\n",
        "feedback_prefix = \"W1D1_T4\""
      ]
    },
    {
      "cell_type": "markdown",
      "metadata": {
        "execution": {},
        "id": "vUIRQ0RR_8ih"
      },
      "source": [
        "---\n",
        "# Section 1: Model discussions\n",
        "\n"
      ]
    },
    {
      "cell_type": "markdown",
      "metadata": {
        "execution": {},
        "id": "5XCCKtGd_8ii"
      },
      "source": [
        "## Think! 1: Model discussions\n",
        "\n",
        "Please spend the next **45 minutes** or so discussing the following questions.\n",
        "\n",
        "- What is your favorite model ever\n",
        "    - Every student contributes one. Can not reuse the same\n",
        "- Which models when?\n",
        "    - For which questions do you prefer what models?\n",
        "    - How models?\n",
        "    - Why models?\n",
        "- Which model kinds do you like best?\n",
        "    - Why?\n",
        "    - Would you be missing something if the other models did not exist?"
      ]
    },
    {
      "cell_type": "markdown",
      "source": [
        "```\n",
        "My answers:\n",
        "1. Integrative theory of PFC function\n",
        "2. a. When you have data and a hypothesis to test. Related to data fitting and pattern recognition, phenomenological modeling, computational ethology, system-level modeling etc.\n",
        "  b. When you feel like you have suffient descriptive models to help you understand the bigger picture of emergent dynamics. Related to neuronal dynamics, plasticity, information processing in neural networks, etc.\n",
        "  c. When you have in literature claims about systems having particular behavior and you need to figure out why it is the way it is and not anything else. Is there room for improvement or is the as optimal it could be given the constraints? Also, when you're trying to take cross-disciplinary inspiration.\n",
        "3. Why models as their tendency to compress complex phenomena into general principles is quite appealing and satisfying. However, such abstraction is prone to error as a lot of information is abstracted over.\n",
        "    If other models did not exist, then why models wouldn't exist either as they all have a synergistic relationship. The making of a why model involves many attempts of creating what and how models of data. And even after that, the other models are needed to empirically test the predictions of why models.\n",
        "```"
      ],
      "metadata": {
        "id": "8z8A7pUVBygG"
      }
    },
    {
      "cell_type": "code",
      "execution_count": null,
      "metadata": {
        "cellView": "form",
        "execution": {},
        "id": "SzsPiWeC_8ii"
      },
      "outputs": [],
      "source": [
        "# @title Submit your feedback\n",
        "content_review(f\"{feedback_prefix}_Model_discussions_Discussion\")"
      ]
    }
  ],
  "metadata": {
    "colab": {
      "name": "W1D1_Tutorial4",
      "provenance": [],
      "toc_visible": true,
      "include_colab_link": true
    },
    "kernel": {
      "display_name": "Python 3",
      "language": "python",
      "name": "python3"
    },
    "kernelspec": {
      "display_name": "Python 3",
      "name": "python3"
    },
    "language_info": {
      "codemirror_mode": {
        "name": "ipython",
        "version": 3
      },
      "file_extension": ".py",
      "mimetype": "text/x-python",
      "name": "python",
      "nbconvert_exporter": "python",
      "pygments_lexer": "ipython3",
      "version": "3.9.17"
    }
  },
  "nbformat": 4,
  "nbformat_minor": 0
}